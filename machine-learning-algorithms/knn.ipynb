{
 "cells": [
  {
   "cell_type": "code",
   "execution_count": null,
   "metadata": {},
   "outputs": [],
   "source": [
    "l = [1,2]\n",
    "\n",
    "index = len(l) // 2\n",
    "\n",
    "print(l[:index])\n",
    "print(l[index+2:])"
   ]
  },
  {
   "cell_type": "markdown",
   "metadata": {},
   "source": [
    "### auxiliary structures"
   ]
  },
  {
   "cell_type": "code",
   "execution_count": null,
   "metadata": {},
   "outputs": [],
   "source": [
    "def distance(p1, p2):\n",
    "    d = 0\n",
    "    for i in range(len(p1)):\n",
    "        d += pow(p1[i] - p2[i], 2)\n",
    "    return d\n",
    "\n",
    "def most_frequent(List):\n",
    "    return max(set(List), key = List.count)\n",
    "\n",
    "def sort_list_by_index(l, index):\n",
    "    return sorted(l, key=lambda x: x[index])\n",
    "\n",
    "class Node:\n",
    "    def __init__(self, data, lvl):\n",
    "        self.data = data\n",
    "        self.lvl = lvl\n",
    "        self.left_side = []\n",
    "        self.right_side = []\n",
    "\n",
    "class KDTree:\n",
    "    def fit(self, data):\n",
    "        self.dimensions = len(data[0])\n",
    "        lvl = 0\n",
    "\n",
    "        self.root = self.__create_next_lvl(data, 0)\n",
    "\n",
    "    def __create_next_lvl(self, lvl, data):\n",
    "        if len(data) == 0: return None\n",
    "\n",
    "        # Decides which feature should be used at the current level\n",
    "        sortedData = sort_list_by_index(data, lvl % self.dimensions)\n",
    "\n",
    "        lvlRootIndex = len(sortedData) // 2\n",
    "        lvlRootNode = Node(sortedData[lvlRootIndex], lvl)\n",
    "\n",
    "        lvlRootNode.left_side = sortedData[:lvlRootIndex]\n",
    "        lvlRootNode.right_side = sortedData[lvlRootIndex + 1:]\n",
    "\n",
    "        return lvlRootNode"
   ]
  },
  {
   "cell_type": "markdown",
   "metadata": {},
   "source": [
    "### KNN"
   ]
  },
  {
   "cell_type": "code",
   "execution_count": null,
   "metadata": {},
   "outputs": [],
   "source": [
    "class KNN:    \n",
    "    def fit(self, X_train, y_train):\n",
    "        self.X_train = X_train\n",
    "        self.y_train = y_train\n",
    "\n",
    "    def predict(self, X_predict, k = 1):\n",
    "        predictions = []\n",
    "        \n",
    "        for x_pred in X_predict:\n",
    "            closest_points = self.__get_closest_points(x_pred, k)\n",
    "            prediction = self.__get_prediction(closest_points)\n",
    "            predictions.append(prediction)\n",
    "\n",
    "        return predictions\n",
    "\n",
    "\n",
    "    # Brute force\n",
    "\n",
    "    def __get_closest_points(self, x_pred, k):\n",
    "        closest_points = []\n",
    "\n",
    "        for i in range(len(self.X_train)):\n",
    "            x_train = self.X_train[i]\n",
    "            dist = distance(x_pred, x_train)\n",
    "            closest_points = self.__add_point_to_closest_points(i, dist, k, closest_points)\n",
    "        \n",
    "        return closest_points\n",
    "\n",
    "\n",
    "    def __add_point_to_closest_points(self, point_index, dist, k, closest_points):\n",
    "        for i in range(k):\n",
    "            if i == len(closest_points):\n",
    "                closest_points.append((point_index, dist))\n",
    "                break\n",
    "            else:\n",
    "                if dist < closest_points[i][1]:\n",
    "                    closest_points.insert(i, (point_index, dist))\n",
    "                    break\n",
    "        return closest_points\n",
    "            \n",
    "    def __get_prediction(self, closest_points):\n",
    "        classes = []\n",
    "\n",
    "        for point in closest_points:\n",
    "            classes.append(self.y_train[point[0]][0])\n",
    "        \n",
    "        return most_frequent(classes)"
   ]
  },
  {
   "cell_type": "markdown",
   "metadata": {},
   "source": [
    "### Pre-processing"
   ]
  },
  {
   "cell_type": "code",
   "execution_count": null,
   "metadata": {},
   "outputs": [],
   "source": [
    "from cProfile import label\n",
    "import pandas as pd\n",
    "import matplotlib.pyplot as plt\n",
    "from sklearn.model_selection import train_test_split\n",
    "from sklearn.metrics import classification_report, confusion_matrix, ConfusionMatrixDisplay\n",
    "from sklearn.preprocessing import StandardScaler\n",
    "from warnings import filterwarnings\n",
    "filterwarnings('ignore')\n",
    "\n",
    "df = pd.read_csv(\"penguins.csv\")\n",
    "df = df[['Culmen Length (mm)', 'Culmen Depth (mm)', 'Flipper Length (mm)', 'Body Mass (g)', 'Species']]\n",
    "df = df.dropna()\n",
    "\n",
    "X = df[['Culmen Length (mm)', 'Culmen Depth (mm)', 'Flipper Length (mm)', 'Body Mass (g)']]\n",
    "y = df[['Species']]\n",
    "\n",
    "scaler = StandardScaler().fit(X.values)\n",
    "features = scaler.transform(X.values)\n",
    "\n",
    "X[X.columns[:]] = features"
   ]
  },
  {
   "cell_type": "markdown",
   "metadata": {},
   "source": [
    "### KNN Brute force"
   ]
  },
  {
   "cell_type": "code",
   "execution_count": null,
   "metadata": {},
   "outputs": [],
   "source": [
    "X_train, X_test, y_train, y_test = train_test_split(X, y, test_size=0.3)\n",
    "\n",
    "x_train_list = X_train.values.tolist()\n",
    "y_train_list = y_train.values.tolist()\n",
    "X_test_list = X_test.values.tolist()\n",
    "\n",
    "knn = KNN()\n",
    "\n",
    "knn.fit(x_train_list, y_train_list)\n",
    "y_pred = knn.predict(X_test_list, k=3)\n",
    "\n",
    "print(classification_report(y_test, y_pred))\n",
    "\n",
    "cm = confusion_matrix(y_test, y_pred, labels=df['Species'].unique())\n",
    "disp = ConfusionMatrixDisplay(confusion_matrix=cm, display_labels=df['Species'].unique())\n",
    "disp.plot(xticks_rotation='vertical')\n",
    "plt.show()"
   ]
  }
 ],
 "metadata": {
  "kernelspec": {
   "display_name": "Python 3.10.4 64-bit",
   "language": "python",
   "name": "python3"
  },
  "language_info": {
   "codemirror_mode": {
    "name": "ipython",
    "version": 3
   },
   "file_extension": ".py",
   "mimetype": "text/x-python",
   "name": "python",
   "nbconvert_exporter": "python",
   "pygments_lexer": "ipython3",
   "version": "3.10.4"
  },
  "orig_nbformat": 4,
  "vscode": {
   "interpreter": {
    "hash": "916dbcbb3f70747c44a77c7bcd40155683ae19c65e1c03b4aa3499c5328201f1"
   }
  }
 },
 "nbformat": 4,
 "nbformat_minor": 2
}
