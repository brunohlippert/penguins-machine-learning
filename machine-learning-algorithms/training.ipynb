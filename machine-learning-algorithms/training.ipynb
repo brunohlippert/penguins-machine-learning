{
 "cells": [
  {
   "cell_type": "markdown",
   "metadata": {},
   "source": [
    "#### Auxliar Structures"
   ]
  },
  {
   "cell_type": "code",
   "execution_count": 104,
   "metadata": {},
   "outputs": [],
   "source": [
    "def readFile(fileName):\n",
    "    f = open(fileName, \"r\")\n",
    "    return f.read()"
   ]
  },
  {
   "cell_type": "code",
   "execution_count": 105,
   "metadata": {},
   "outputs": [],
   "source": [
    "class DataFrame:\n",
    "    def __init__(self, matrix):\n",
    "        self.columns = matrix[0]\n",
    "        self.data = matrix[1:]\n",
    "        self.column_indexes = {}\n",
    "\n",
    "        for i in range(len(self.columns)):\n",
    "            self.column_indexes[self.columns[i]] = i\n",
    "\n",
    "    def __getitem__(self, columns):\n",
    "        \"\"\" use: df[[col1, col2, col3]] \"\"\"\n",
    "        newMatrix = [columns]\n",
    "\n",
    "        for i in range(len(self.data)):\n",
    "            oldEntry = self.data[i]\n",
    "            newEntry = []\n",
    "\n",
    "            for col in columns:\n",
    "                newEntry.append(oldEntry[self.column_indexes[col]])\n",
    "            newMatrix.append(newEntry)\n",
    "        \n",
    "        return DataFrame(newMatrix)\n",
    "\n",
    "    def head(self, n):\n",
    "        print(self.columns)\n",
    "        for i in range(n):\n",
    "            print(self.data[i])\n",
    "    \n",
    "    def copy(self):\n",
    "        return self[self.columns]\n",
    "\n",
    "    def remove_lines_with_value(self, empty_value):\n",
    "        newMatrix = [self.columns]\n",
    "\n",
    "        for i in range(len(self.data)):\n",
    "            if not empty_value in self.data[i]:\n",
    "                newMatrix.append([elem for elem in self.data[i]]) # deep copy\n",
    "\n",
    "        return DataFrame(newMatrix)\n",
    "\n",
    "\n",
    "        \n",
    "class DataFrameLoader:\n",
    "    def get_dataframe_from_file(self, csvFile) -> DataFrame:\n",
    "        raw_file = readFile(csvFile)\n",
    "        matrix = self.__get_matrix_from_csv_data(raw_file)\n",
    "        return DataFrame(matrix)\n",
    "\n",
    "    def __get_matrix_from_csv_data(self, csvData):\n",
    "        matrix = []\n",
    "        lines = csvData.split(\"\\n\")\n",
    "        \n",
    "        for line in lines:\n",
    "            if ',' in line:\n",
    "                line = line.replace(\", \", \". \")\n",
    "                matrix.append(line.split(\",\"))\n",
    "\n",
    "        return matrix"
   ]
  },
  {
   "cell_type": "markdown",
   "metadata": {},
   "source": [
    "#### Open and process data\n"
   ]
  },
  {
   "cell_type": "code",
   "execution_count": 106,
   "metadata": {},
   "outputs": [],
   "source": [
    "df = DataFrameLoader().get_dataframe_from_file(\"penguins.csv\")\n",
    "df = df[['Culmen Length (mm)', 'Culmen Depth (mm)', 'Flipper Length (mm)', 'Body Mass (g)', 'Species']]\n",
    "df = df.remove_lines_with_value(\"NA\")\n",
    "\n",
    "X = df[['Culmen Length (mm)', 'Culmen Depth (mm)', 'Flipper Length (mm)', 'Body Mass (g)']]\n",
    "y = df[['Species']]"
   ]
  },
  {
   "cell_type": "markdown",
   "metadata": {},
   "source": [
    "### With pandas"
   ]
  },
  {
   "cell_type": "markdown",
   "metadata": {},
   "source": [
    "### KNN"
   ]
  },
  {
   "cell_type": "code",
   "execution_count": 118,
   "metadata": {},
   "outputs": [],
   "source": [
    "def distance(p1, p2):\n",
    "    d = 0\n",
    "    for i in range(len(p1)):\n",
    "        d += pow(p1[i] - p2[i], 2)\n",
    "    return d\n",
    "\n",
    "def most_frequent(List):\n",
    "    return max(set(List), key = List.count)\n",
    "\n",
    "class KNN:    \n",
    "    def fit(self, X_train, y_train):\n",
    "        self.X_train = X_train\n",
    "        self.y_train = y_train\n",
    "\n",
    "    def predict(self, X_predict, k = 1):\n",
    "        predictions = []\n",
    "        \n",
    "        for x_pred in X_predict:\n",
    "            closest_points = self.__get_closest_points(x_pred, k)\n",
    "            prediction = self.__get_prediction(closest_points)\n",
    "            predictions.append(prediction)\n",
    "\n",
    "        return predictions\n",
    "\n",
    "\n",
    "    # Brute force\n",
    "\n",
    "    def __get_closest_points(self, x_pred, k):\n",
    "        closest_points = []\n",
    "\n",
    "        for i in range(len(self.X_train)):\n",
    "            x_train = self.X_train[i]\n",
    "            dist = distance(x_pred, x_train)\n",
    "            closest_points = self.__add_point_to_closest_points(i, dist, k, closest_points)\n",
    "        \n",
    "        return closest_points\n",
    "\n",
    "\n",
    "    def __add_point_to_closest_points(self, point_index, dist, k, closest_points):\n",
    "        for i in range(k):\n",
    "            if i == len(closest_points):\n",
    "                closest_points.append((point_index, dist))\n",
    "                break\n",
    "            else:\n",
    "                if dist < closest_points[i][1]:\n",
    "                    closest_points.insert(i, (point_index, dist))\n",
    "                    break\n",
    "        return closest_points\n",
    "            \n",
    "    def __get_prediction(self, closest_points):\n",
    "        classes = []\n",
    "\n",
    "        for point in closest_points:\n",
    "            classes.append(self.y_train[point[0]][0])\n",
    "        \n",
    "        return most_frequent(classes)\n",
    "\n",
    "\n",
    "\n",
    "    "
   ]
  },
  {
   "cell_type": "code",
   "execution_count": 161,
   "metadata": {},
   "outputs": [
    {
     "name": "stdout",
     "output_type": "stream",
     "text": [
      "                                           precision    recall  f1-score   support\n",
      "\n",
      "      Adelie Penguin (Pygoscelis adeliae)       0.80      0.88      0.84        50\n",
      "Chinstrap penguin (Pygoscelis antarctica)       0.55      0.35      0.43        17\n",
      "        Gentoo penguin (Pygoscelis papua)       0.97      1.00      0.99        36\n",
      "\n",
      "                                 accuracy                           0.83       103\n",
      "                                macro avg       0.77      0.74      0.75       103\n",
      "                             weighted avg       0.82      0.83      0.82       103\n",
      "\n"
     ]
    }
   ],
   "source": [
    "import pandas as pd\n",
    "from sklearn.model_selection import train_test_split\n",
    "from sklearn.metrics import classification_report\n",
    "\n",
    "df = pd.read_csv(\"penguins.csv\")\n",
    "df = df[['Culmen Length (mm)', 'Culmen Depth (mm)', 'Flipper Length (mm)', 'Body Mass (g)', 'Species']]\n",
    "df = df.dropna()\n",
    "\n",
    "X = df[['Culmen Length (mm)', 'Culmen Depth (mm)', 'Flipper Length (mm)', 'Body Mass (g)']]\n",
    "y = df[['Species']]\n",
    "\n",
    "X_train, X_test, y_train, y_test = train_test_split(X, y, test_size=0.3)\n",
    "\n",
    "x_train_list = X_train.values.tolist()\n",
    "y_train_list = y_train.values.tolist()\n",
    "X_test_list = X_test.values.tolist()\n",
    "\n",
    "knn = KNN()\n",
    "\n",
    "knn.fit(x_train_list, y_train_list)\n",
    "y_pred = knn.predict(X_test_list)\n",
    "\n",
    "print(classification_report(y_test, y_pred))"
   ]
  }
 ],
 "metadata": {
  "kernelspec": {
   "display_name": "Python 3.10.4 64-bit",
   "language": "python",
   "name": "python3"
  },
  "language_info": {
   "codemirror_mode": {
    "name": "ipython",
    "version": 3
   },
   "file_extension": ".py",
   "mimetype": "text/x-python",
   "name": "python",
   "nbconvert_exporter": "python",
   "pygments_lexer": "ipython3",
   "version": "3.10.4"
  },
  "orig_nbformat": 4,
  "vscode": {
   "interpreter": {
    "hash": "916dbcbb3f70747c44a77c7bcd40155683ae19c65e1c03b4aa3499c5328201f1"
   }
  }
 },
 "nbformat": 4,
 "nbformat_minor": 2
}
